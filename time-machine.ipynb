{
  "nbformat": 4,
  "nbformat_minor": 0,
  "metadata": {
    "colab": {
      "provenance": [],
      "gpuType": "T4"
    },
    "kernelspec": {
      "name": "python3",
      "display_name": "Python 3"
    },
    "language_info": {
      "name": "python"
    },
    "accelerator": "GPU"
  },
  "cells": [
    {
      "cell_type": "code",
      "execution_count": null,
      "metadata": {
        "id": "N8NBDhhKrlXk"
      },
      "outputs": [],
      "source": [
        "%cd /content\n",
        "!git lfs install\n",
        "!git clone https://huggingface.co/spaces/ginipick/time-machine\n",
        "%cd time-machine\n",
        "!pip3 install torch torchvision torchaudio --index-url https://download.pytorch.org/whl/cu118\n",
        "!pip install spaces\n",
        "!pip install gradio\n",
        "!pip install -r requirements.txt"
      ]
    },
    {
      "cell_type": "code",
      "source": [
        "!python app.py"
      ],
      "metadata": {
        "id": "XgGv7R_fi_kr"
      },
      "execution_count": null,
      "outputs": []
    },
    {
      "cell_type": "code",
      "source": [
        "\n",
        "\n",
        "# --- Variables ---\n",
        "\n",
        "Ngrok_token = \"2n1UDtsDils62aCEBd1rf5EGn4B_5WHbhnbqox6dEL2EVdeaz\"  # Update with your ngrok token\n",
        "Ngrok_domain = \"\"  # optional, leave empty if you don't have a domain\n",
        "port = 7860\n",
        "HOME_FOLDER = \"/content/time-machine\"\n",
        "\n",
        "# -----------------\n",
        "\n",
        "!pip install pyngrok==6.1.0  # Downgrade to a version that supports ngrok tunneling\n",
        "\n",
        "from pyngrok import ngrok, conf\n",
        "import gc\n",
        "\n",
        "gc.collect()\n",
        "\n",
        "if Ngrok_token:\n",
        "    try:\n",
        "        ngrok.set_auth_token(Ngrok_token)\n",
        "        ngrok.kill()\n",
        "        srv = ngrok.connect(port)\n",
        "        print(f\"Ngrok Tunnel is active at: {srv.public_url}\")\n",
        "\n",
        "        # Command to start\n",
        "        !echo -e \"A\\nN\" | python app.py\n",
        "\n",
        "    except Exception as e:\n",
        "        print(f\"Error starting ngrok tunnel: {e}\")\n",
        "else:\n",
        "    print('An ngrok token is required. You can get one on https://ngrok.com and paste it into the Ngrok_token field.')\n"
      ],
      "metadata": {
        "id": "JpKWQ9lNiwjT"
      },
      "execution_count": null,
      "outputs": []
    }
  ]
}